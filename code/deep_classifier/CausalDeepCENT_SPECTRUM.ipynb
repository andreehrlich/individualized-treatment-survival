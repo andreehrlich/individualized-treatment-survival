{
 "cells": [
  {
   "cell_type": "markdown",
   "metadata": {
    "id": "Gi810XQWNpPx"
   },
   "source": [
    "## Install package from GitHub"
   ]
  },
  {
   "cell_type": "code",
   "execution_count": 3,
   "metadata": {
    "colab": {
     "base_uri": "https://localhost:8080/"
    },
    "id": "1EEvZK3NJ5Z-",
    "outputId": "c4467e11-9af1-4d8a-ebb6-0daeed73cc93"
   },
   "outputs": [
    {
     "name": "stdout",
     "output_type": "stream",
     "text": [
      "  Preparing metadata (setup.py) ... \u001b[?25l\u001b[?25hdone\n",
      "  \u001b[1;31merror\u001b[0m: \u001b[1msubprocess-exited-with-error\u001b[0m\n",
      "  \n",
      "  \u001b[31m×\u001b[0m \u001b[32mpython setup.py egg_info\u001b[0m did not run successfully.\n",
      "  \u001b[31m│\u001b[0m exit code: \u001b[1;36m1\u001b[0m\n",
      "  \u001b[31m╰─>\u001b[0m See above for output.\n",
      "  \n",
      "  \u001b[1;35mnote\u001b[0m: This error originates from a subprocess, and is likely not a problem with pip.\n",
      "  Preparing metadata (setup.py) ... \u001b[?25l\u001b[?25herror\n",
      "\u001b[1;31merror\u001b[0m: \u001b[1mmetadata-generation-failed\u001b[0m\n",
      "\n",
      "\u001b[31m×\u001b[0m Encountered error while generating package metadata.\n",
      "\u001b[31m╰─>\u001b[0m See above for output.\n",
      "\n",
      "\u001b[1;35mnote\u001b[0m: This is an issue with the package mentioned above, not pip.\n",
      "\u001b[1;36mhint\u001b[0m: See above for details.\n"
     ]
    }
   ],
   "source": [
    "# !pip3 install git+https://github.com/yicjia/CausalDeepCENT.git -q"
   ]
  },
  {
   "cell_type": "code",
   "execution_count": 1,
   "metadata": {},
   "outputs": [
    {
     "name": "stderr",
     "output_type": "stream",
     "text": [
      "/var/folders/38/05rshw150dz6n2rqnqpvq49h0000gp/T/ipykernel_70280/1372205583.py:1: DeprecationWarning: Importing display from IPython.core.display is deprecated since IPython 7.14, please import from IPython display\n",
      "  from IPython.core.display import display, HTML\n"
     ]
    },
    {
     "data": {
      "text/html": [
       "<style>#notebook { padding-top:0px !important; } .container { width:100% !important; } .end_space { min-height:0px !important; } </style>"
      ],
      "text/plain": [
       "<IPython.core.display.HTML object>"
      ]
     },
     "metadata": {},
     "output_type": "display_data"
    }
   ],
   "source": [
    "from IPython.core.display import display, HTML\n",
    "display(HTML(\n",
    "    '<style>'\n",
    "        '#notebook { padding-top:0px !important; } ' \n",
    "        '.container { width:100% !important; } '\n",
    "        '.end_space { min-height:0px !important; } '\n",
    "    '</style>'\n",
    "))\n"
   ]
  },
  {
   "cell_type": "code",
   "execution_count": 2,
   "metadata": {},
   "outputs": [
    {
     "name": "stdout",
     "output_type": "stream",
     "text": [
      "Requirement already satisfied: lifelines in /opt/homebrew/lib/python3.11/site-packages (0.27.8)\n",
      "Requirement already satisfied: numpy<2.0,>=1.14.0 in /opt/homebrew/lib/python3.11/site-packages (from lifelines) (1.25.2)\n",
      "Requirement already satisfied: scipy>=1.2.0 in /opt/homebrew/lib/python3.11/site-packages (from lifelines) (1.11.3)\n",
      "Requirement already satisfied: pandas>=1.0.0 in /opt/homebrew/lib/python3.11/site-packages (from lifelines) (2.1.2)\n",
      "Requirement already satisfied: matplotlib>=3.0 in /opt/homebrew/lib/python3.11/site-packages (from lifelines) (3.8.0)\n",
      "Requirement already satisfied: autograd>=1.5 in /opt/homebrew/lib/python3.11/site-packages (from lifelines) (1.6.2)\n",
      "Requirement already satisfied: autograd-gamma>=0.3 in /opt/homebrew/lib/python3.11/site-packages (from lifelines) (0.5.0)\n",
      "Requirement already satisfied: formulaic>=0.2.2 in /opt/homebrew/lib/python3.11/site-packages (from lifelines) (0.6.6)\n",
      "Requirement already satisfied: future>=0.15.2 in /opt/homebrew/lib/python3.11/site-packages (from autograd>=1.5->lifelines) (0.18.3)\n",
      "Requirement already satisfied: astor>=0.8 in /opt/homebrew/lib/python3.11/site-packages (from formulaic>=0.2.2->lifelines) (0.8.1)\n",
      "Requirement already satisfied: interface-meta>=1.2.0 in /opt/homebrew/lib/python3.11/site-packages (from formulaic>=0.2.2->lifelines) (1.3.0)\n",
      "Requirement already satisfied: typing-extensions>=4.2.0 in /opt/homebrew/lib/python3.11/site-packages (from formulaic>=0.2.2->lifelines) (4.7.1)\n",
      "Requirement already satisfied: wrapt>=1.0 in /opt/homebrew/lib/python3.11/site-packages (from formulaic>=0.2.2->lifelines) (1.15.0)\n",
      "Requirement already satisfied: contourpy>=1.0.1 in /opt/homebrew/lib/python3.11/site-packages (from matplotlib>=3.0->lifelines) (1.1.1)\n",
      "Requirement already satisfied: cycler>=0.10 in /opt/homebrew/lib/python3.11/site-packages (from matplotlib>=3.0->lifelines) (0.12.1)\n",
      "Requirement already satisfied: fonttools>=4.22.0 in /opt/homebrew/lib/python3.11/site-packages (from matplotlib>=3.0->lifelines) (4.43.1)\n",
      "Requirement already satisfied: kiwisolver>=1.0.1 in /opt/homebrew/lib/python3.11/site-packages (from matplotlib>=3.0->lifelines) (1.4.5)\n",
      "Requirement already satisfied: packaging>=20.0 in /opt/homebrew/lib/python3.11/site-packages (from matplotlib>=3.0->lifelines) (23.2)\n",
      "Requirement already satisfied: pillow>=6.2.0 in /opt/homebrew/lib/python3.11/site-packages (from matplotlib>=3.0->lifelines) (10.0.0)\n",
      "Requirement already satisfied: pyparsing>=2.3.1 in /opt/homebrew/lib/python3.11/site-packages (from matplotlib>=3.0->lifelines) (3.1.1)\n",
      "Requirement already satisfied: python-dateutil>=2.7 in /opt/homebrew/lib/python3.11/site-packages (from matplotlib>=3.0->lifelines) (2.8.2)\n",
      "Requirement already satisfied: pytz>=2020.1 in /opt/homebrew/lib/python3.11/site-packages (from pandas>=1.0.0->lifelines) (2023.3.post1)\n",
      "Requirement already satisfied: tzdata>=2022.1 in /opt/homebrew/lib/python3.11/site-packages (from pandas>=1.0.0->lifelines) (2023.3)\n",
      "Requirement already satisfied: six>=1.5 in /opt/homebrew/lib/python3.11/site-packages (from python-dateutil>=2.7->matplotlib>=3.0->lifelines) (1.16.0)\n"
     ]
    }
   ],
   "source": [
    "# pip list\n",
    "import sys\n",
    "!{sys.executable} -m pip install lifelines"
   ]
  },
  {
   "cell_type": "code",
   "execution_count": 2,
   "metadata": {},
   "outputs": [],
   "source": [
    "# Import seaborn\n",
    "import seaborn as sns\n",
    "\n",
    "# Apply the default theme\n",
    "sns.set_theme()\n",
    "import matplotlib.pyplot as plt\n"
   ]
  },
  {
   "cell_type": "code",
   "execution_count": 3,
   "metadata": {
    "colab": {
     "base_uri": "https://localhost:8080/",
     "height": 393
    },
    "id": "WfPY_fvkJ9RA",
    "outputId": "f238d90a-dac7-4db7-9019-1d2d25569e5d"
   },
   "outputs": [],
   "source": [
    "# imports for tutorial of wrapped POC model\n",
    "from CausalDeepCENT import causal_deepcent as cdc\n",
    "import pandas as pd\n",
    "import numpy as np\n",
    "from sklearn.preprocessing import MinMaxScaler\n",
    "from sklearn.model_selection import train_test_split\n",
    "from sklearn.metrics import mean_squared_error\n",
    "import torch\n",
    "from torch.utils.data import DataLoader, TensorDataset\n",
    "import lifelines"
   ]
  },
  {
   "cell_type": "code",
   "execution_count": 4,
   "metadata": {
    "id": "lYWYWoUYL5Uz"
   },
   "outputs": [],
   "source": [
    "## check device (CPU or GPU)\n",
    "if torch.cuda.is_available():\n",
    "  dev = \"cuda:0\"\n",
    "else:\n",
    "  dev = \"cpu\"\n",
    "device = torch.device(dev)"
   ]
  },
  {
   "cell_type": "code",
   "execution_count": 5,
   "metadata": {},
   "outputs": [
    {
     "data": {
      "text/plain": [
       "device(type='cpu')"
      ]
     },
     "execution_count": 5,
     "metadata": {},
     "output_type": "execute_result"
    }
   ],
   "source": [
    "device"
   ]
  },
  {
   "cell_type": "code",
   "execution_count": 52,
   "metadata": {},
   "outputs": [],
   "source": [
    "# imports for model backend code \n",
    "\n",
    "\n",
    "import numpy as np\n",
    "import pandas as pd\n",
    "\n",
    "import torch\n",
    "import torch.nn as nn\n",
    "import torch.optim as optim\n",
    "from torch.utils.data import DataLoader, TensorDataset\n",
    "import torch.nn.functional as F\n",
    "from torch.autograd import Variable\n",
    "import torch.distributions as dist\n",
    "\n",
    "from sklearn.linear_model import LogisticRegression\n",
    "\n",
    "import math\n",
    "import csv\n",
    "import os\n",
    "import time"
   ]
  },
  {
   "cell_type": "code",
   "execution_count": 53,
   "metadata": {},
   "outputs": [],
   "source": [
    "# model backend code wrapped \n",
    "\n",
    "\n",
    "class Net(nn.Module):\n",
    "    def __init__(self, n_feature, num_layers, node, dropout, drop_factor = 1):\n",
    "        super(Net, self).__init__()\n",
    "        # input layer\n",
    "        layers = [nn.Linear(n_feature, node),\n",
    "                  nn.BatchNorm1d(node),\n",
    "                  nn.ReLU()]\n",
    "        # hidden layers\n",
    "        node_temp = node\n",
    "        for i in range(0, num_layers):\n",
    "            node_temp0 = max(4, int(node_temp / (drop_factor**i)))\n",
    "            node_temp1 = max(4, int(node_temp0 / drop_factor))\n",
    "            layers += [nn.Linear(node_temp0, node_temp1),\n",
    "                       nn.BatchNorm1d(node_temp1),\n",
    "                       nn.ReLU(),\n",
    "                       nn.Dropout(p=dropout)]\n",
    "        layers += [nn.ReLU()]\n",
    "        # output layer\n",
    "        layers += [nn.Linear(node_temp1, 1)]\n",
    "        self.seq = nn.Sequential(*layers) \n",
    "\n",
    "    def forward(self, inputs):\n",
    "        return self.seq(inputs)  \n",
    "\n",
    "\n",
    "def getIPW(y, x):\n",
    "    model = LogisticRegression(solver='liblinear').fit(x, y)\n",
    "    p = model.predict_proba(x)[:, 1]\n",
    "    w = y/p+(1-y)/(1-p)\n",
    "    return w\n",
    "\n",
    "\n",
    "def weighted_mse_loss(pred, obs, delta, weight, lambda1):\n",
    "    mse = delta*((pred - obs) ** 2)\n",
    "\n",
    "    ind = pred < obs\n",
    "    delta0 = 1 - delta\n",
    "    p = ind * delta0 * (obs - pred)**2 \n",
    "    return ((mse+lambda1*p)*weight).mean()\n",
    "\n",
    "def enable_dropout(model):\n",
    "    for m in model.modules():\n",
    "        if m.__class__.__name__.startswith('Dropout'):\n",
    "            m.train()\n",
    "\n",
    "def Causal_DeepCENT(train_dataset, test_dataset, num_feature, num_layers, node, dropout, lr, lambda1, num_epoch, batch_size, seed=123, T=100):\n",
    "    torch.manual_seed(seed)\n",
    "\n",
    "    train_loader = DataLoader(dataset=train_dataset, batch_size=batch_size, shuffle=True, drop_last=True)\n",
    "    test_loader = DataLoader(dataset=test_dataset, batch_size=len(test_dataset))\n",
    "\n",
    "    model = Net(n_feature=num_feature, num_layers = num_layers, node=node, dropout=dropout)\n",
    "    model.to(device)\n",
    "\n",
    "    optimizer = optim.Adam(model.parameters(), lr=lr,weight_decay=1e-8)\n",
    "\n",
    "\n",
    "    # Trianing\n",
    "    epoch_loss_train = []\n",
    "    for e in range(1, num_epoch+1):\n",
    "        epoch_loss = 0\n",
    "\n",
    "        model.train()\n",
    "        for X_train_batch, y_train_batch, E_train_batch, W_train_batch in train_loader:\n",
    "            optimizer.zero_grad()\n",
    "        \n",
    "            y_train_pred = model(X_train_batch)\n",
    "            mseloss = weighted_mse_loss(y_train_pred, y_train_batch.unsqueeze(1), E_train_batch.unsqueeze(1), W_train_batch.unsqueeze(1),lambda1)\n",
    "            train_loss = mseloss \n",
    "            train_loss.backward()\n",
    "            optimizer.step()\n",
    "\n",
    "   \n",
    "\n",
    "    # Predicting test\n",
    "    with torch.no_grad():\n",
    "        #model.train()\n",
    "        model.eval()\n",
    "        enable_dropout(model)\n",
    "        result = []\n",
    "        for _ in range(T): \n",
    "            y_pred_list = [] \n",
    "            for X_batch, _, _ in test_loader:\n",
    "                y_test_pred = model(X_batch)\n",
    "                y_pred_list.append(y_test_pred.cpu().numpy())\n",
    "                y_pred_list = [a.squeeze().tolist() for a in y_pred_list]\n",
    "                if len(y_pred_list)>1: y_pred_list = sum(y_pred_list, [])\n",
    "            result.append(y_pred_list)\n",
    "        \n",
    "        result = np.array(result)\n",
    "        y_test_pred_mean = result.mean(axis=0).reshape(-1,)\n",
    "        y_test_pred_sd = result.std(axis=0).reshape(-1,)\n",
    "        y_pred_list_upper = y_test_pred_mean + 1.96*y_test_pred_sd\n",
    "        y_pred_list_lower = y_test_pred_mean - 1.96*y_test_pred_sd\n",
    "\n",
    "    \n",
    "    return y_test_pred_mean,y_pred_list_upper, y_pred_list_lower\n",
    "\n"
   ]
  },
  {
   "cell_type": "markdown",
   "metadata": {
    "id": "9QT_-4bmNvSs"
   },
   "source": [
    "## Load data"
   ]
  },
  {
   "cell_type": "code",
   "execution_count": 10,
   "metadata": {
    "id": "lAXGT8XtL9gp"
   },
   "outputs": [],
   "source": [
    "# df = pd.read_csv('https://raw.githubusercontent.com/yicjia/CausalDeepCENT/master/METABRIC_4genes.csv')\n",
    "# df[\"W\"] = cdc.getIPW(df[\"Chemotherapy\"],df.drop([\"time\",\"event\",\"Chemotherapy\"], axis = 1))\n",
    "\n",
    "\n",
    "## Split the data into training and test sets\n",
    "# train_df, test_df = train_test_split(df, test_size=0.3,random_state=2)"
   ]
  },
  {
   "cell_type": "code",
   "execution_count": 55,
   "metadata": {},
   "outputs": [],
   "source": [
    "# Load SPECTRUM Data \n",
    "\n",
    "df = pd.read_csv(\"spectrum_os.csv\", sep=\"\\t\")\n",
    "# format df to match existing column names / values \n",
    "df.rename(columns={\"t2\":\"time\", \"s2\":\"event\"}, inplace=True)\n",
    "df.drop([\"t1\",\"s1\"], axis=1, inplace=True)\n",
    "df.replace({\"event\":1}, 0, inplace=True)  # not death\n",
    "df.replace({\"event\":3}, 1, inplace=True)  # death \n",
    "\n",
    "\n",
    "# estimate propensity score via logistic regression\n",
    "# in a RCT, we know the probability of treatment P(A), but lets allow it to be estimated ... \n",
    "df[\"W\"] = cdc.getIPW(df[\"A\"],df[[\"Z1\",\"Z2\",\"Z3\",\"Z4\"]])\n"
   ]
  },
  {
   "cell_type": "code",
   "execution_count": 54,
   "metadata": {},
   "outputs": [
    {
     "data": {
      "text/html": [
       "<div>\n",
       "<style scoped>\n",
       "    .dataframe tbody tr th:only-of-type {\n",
       "        vertical-align: middle;\n",
       "    }\n",
       "\n",
       "    .dataframe tbody tr th {\n",
       "        vertical-align: top;\n",
       "    }\n",
       "\n",
       "    .dataframe thead th {\n",
       "        text-align: right;\n",
       "    }\n",
       "</style>\n",
       "<table border=\"1\" class=\"dataframe\">\n",
       "  <thead>\n",
       "    <tr style=\"text-align: right;\">\n",
       "      <th></th>\n",
       "      <th>id</th>\n",
       "      <th>time</th>\n",
       "      <th>event</th>\n",
       "      <th>Z1</th>\n",
       "      <th>Z2</th>\n",
       "      <th>Z3</th>\n",
       "      <th>Z4</th>\n",
       "      <th>A</th>\n",
       "      <th>W</th>\n",
       "    </tr>\n",
       "  </thead>\n",
       "  <tbody>\n",
       "    <tr>\n",
       "      <th>165</th>\n",
       "      <td>221601003</td>\n",
       "      <td>235</td>\n",
       "      <td>1</td>\n",
       "      <td>-11.767308</td>\n",
       "      <td>0</td>\n",
       "      <td>0</td>\n",
       "      <td>1</td>\n",
       "      <td>-1</td>\n",
       "      <td>1.661378</td>\n",
       "    </tr>\n",
       "    <tr>\n",
       "      <th>134</th>\n",
       "      <td>221402008</td>\n",
       "      <td>207</td>\n",
       "      <td>1</td>\n",
       "      <td>-5.767308</td>\n",
       "      <td>0</td>\n",
       "      <td>1</td>\n",
       "      <td>0</td>\n",
       "      <td>1</td>\n",
       "      <td>1.878387</td>\n",
       "    </tr>\n",
       "    <tr>\n",
       "      <th>30</th>\n",
       "      <td>221110003</td>\n",
       "      <td>35</td>\n",
       "      <td>0</td>\n",
       "      <td>5.232692</td>\n",
       "      <td>1</td>\n",
       "      <td>1</td>\n",
       "      <td>0</td>\n",
       "      <td>-1</td>\n",
       "      <td>2.141481</td>\n",
       "    </tr>\n",
       "    <tr>\n",
       "      <th>204</th>\n",
       "      <td>222203003</td>\n",
       "      <td>15</td>\n",
       "      <td>1</td>\n",
       "      <td>6.232692</td>\n",
       "      <td>0</td>\n",
       "      <td>1</td>\n",
       "      <td>0</td>\n",
       "      <td>-1</td>\n",
       "      <td>1.804733</td>\n",
       "    </tr>\n",
       "    <tr>\n",
       "      <th>10</th>\n",
       "      <td>221101012</td>\n",
       "      <td>69</td>\n",
       "      <td>1</td>\n",
       "      <td>13.232692</td>\n",
       "      <td>0</td>\n",
       "      <td>1</td>\n",
       "      <td>0</td>\n",
       "      <td>-1</td>\n",
       "      <td>1.474000</td>\n",
       "    </tr>\n",
       "    <tr>\n",
       "      <th>...</th>\n",
       "      <td>...</td>\n",
       "      <td>...</td>\n",
       "      <td>...</td>\n",
       "      <td>...</td>\n",
       "      <td>...</td>\n",
       "      <td>...</td>\n",
       "      <td>...</td>\n",
       "      <td>...</td>\n",
       "      <td>...</td>\n",
       "    </tr>\n",
       "    <tr>\n",
       "      <th>75</th>\n",
       "      <td>221210005</td>\n",
       "      <td>13</td>\n",
       "      <td>1</td>\n",
       "      <td>1.232692</td>\n",
       "      <td>1</td>\n",
       "      <td>1</td>\n",
       "      <td>0</td>\n",
       "      <td>-1</td>\n",
       "      <td>2.342738</td>\n",
       "    </tr>\n",
       "    <tr>\n",
       "      <th>466</th>\n",
       "      <td>224023002</td>\n",
       "      <td>190</td>\n",
       "      <td>1</td>\n",
       "      <td>-5.767308</td>\n",
       "      <td>1</td>\n",
       "      <td>1</td>\n",
       "      <td>0</td>\n",
       "      <td>-1</td>\n",
       "      <td>2.709180</td>\n",
       "    </tr>\n",
       "    <tr>\n",
       "      <th>299</th>\n",
       "      <td>223609009</td>\n",
       "      <td>48</td>\n",
       "      <td>1</td>\n",
       "      <td>-3.767308</td>\n",
       "      <td>1</td>\n",
       "      <td>0</td>\n",
       "      <td>0</td>\n",
       "      <td>-1</td>\n",
       "      <td>2.273709</td>\n",
       "    </tr>\n",
       "    <tr>\n",
       "      <th>493</th>\n",
       "      <td>224404005</td>\n",
       "      <td>563</td>\n",
       "      <td>1</td>\n",
       "      <td>-5.767308</td>\n",
       "      <td>1</td>\n",
       "      <td>0</td>\n",
       "      <td>0</td>\n",
       "      <td>1</td>\n",
       "      <td>1.884844</td>\n",
       "    </tr>\n",
       "    <tr>\n",
       "      <th>168</th>\n",
       "      <td>221601009</td>\n",
       "      <td>163</td>\n",
       "      <td>1</td>\n",
       "      <td>-3.767308</td>\n",
       "      <td>0</td>\n",
       "      <td>1</td>\n",
       "      <td>0</td>\n",
       "      <td>-1</td>\n",
       "      <td>2.296465</td>\n",
       "    </tr>\n",
       "  </tbody>\n",
       "</table>\n",
       "<p>364 rows × 9 columns</p>\n",
       "</div>"
      ],
      "text/plain": [
       "            id  time  event         Z1  Z2  Z3  Z4  A         W\n",
       "165  221601003   235      1 -11.767308   0   0   1 -1  1.661378\n",
       "134  221402008   207      1  -5.767308   0   1   0  1  1.878387\n",
       "30   221110003    35      0   5.232692   1   1   0 -1  2.141481\n",
       "204  222203003    15      1   6.232692   0   1   0 -1  1.804733\n",
       "10   221101012    69      1  13.232692   0   1   0 -1  1.474000\n",
       "..         ...   ...    ...        ...  ..  ..  .. ..       ...\n",
       "75   221210005    13      1   1.232692   1   1   0 -1  2.342738\n",
       "466  224023002   190      1  -5.767308   1   1   0 -1  2.709180\n",
       "299  223609009    48      1  -3.767308   1   0   0 -1  2.273709\n",
       "493  224404005   563      1  -5.767308   1   0   0  1  1.884844\n",
       "168  221601009   163      1  -3.767308   0   1   0 -1  2.296465\n",
       "\n",
       "[364 rows x 9 columns]"
      ]
     },
     "execution_count": 54,
     "metadata": {},
     "output_type": "execute_result"
    }
   ],
   "source": [
    "## Split the data into training and test sets\n",
    "train_df, test_df = train_test_split(df, test_size=0.3,random_state=2)\n",
    "train_df"
   ]
  },
  {
   "cell_type": "code",
   "execution_count": 14,
   "metadata": {
    "id": "x9I6I5GEMY0L"
   },
   "outputs": [],
   "source": [
    "# Prepare the data for Training + Testing \n",
    "\n",
    "# TRAIN \n",
    "X_train = train_df.drop([\"time\",\"event\",\"W\", \"id\"], axis = 1)\n",
    "\n",
    "NUM_FEATURES = X_train.shape[1]\n",
    "\n",
    "# save vars for post-prediction inference\n",
    "y_train = np.log(train_df[\"time\"])\n",
    "E_train = train_df[\"event\"]\n",
    "W_train = train_df[\"W\"]\n",
    "\n",
    "\n",
    "# TEST \n",
    "\n",
    "# save vars for post-prediction inference\n",
    "X_test = test_df.drop([\"time\",\"event\",\"W\", \"id\"], axis = 1)\n",
    "y_test = np.log(test_df[\"time\"])\n",
    "E_test = test_df[\"event\"]\n",
    "\n",
    "# normalize variables  \n",
    "scaler = MinMaxScaler()\n",
    "X_train = scaler.fit_transform(X_train)\n",
    "X_test = scaler.transform(X_test)\n",
    "\n",
    "\n",
    "#\n",
    "# Format data for CPU/GPU Processing (Tensor wrapper)\n",
    "#\n",
    "\n",
    "# TRAIN  \n",
    "X_train, y_train, E_train, W_train = (\n",
    "    np.array(X_train), \n",
    "    np.array(y_train), \n",
    "    np.array(E_train), \n",
    "    np.array(W_train)\n",
    ")\n",
    "\n",
    "train_dataset = TensorDataset(\n",
    "    torch.from_numpy(X_train).float().to(device), \n",
    "    torch.from_numpy(y_train).float().to(device), \n",
    "    torch.from_numpy(E_train).float().to(device), \n",
    "    torch.from_numpy(W_train).float().to(device)\n",
    ")\n",
    "\n",
    "# TEST\n",
    "X_test, y_test, E_test = (\n",
    "    np.array(X_test), \n",
    "    np.array(y_test), \n",
    "    np.array(E_test)\n",
    ")\n",
    "\n",
    "test_dataset = TensorDataset(\n",
    "    torch.from_numpy(X_test).float().to(device), \n",
    "    torch.from_numpy(y_test).float().to(device), \n",
    "    torch.from_numpy(E_test).float().to(device)\n",
    ")"
   ]
  },
  {
   "cell_type": "code",
   "execution_count": 15,
   "metadata": {},
   "outputs": [
    {
     "data": {
      "text/html": [
       "<div>\n",
       "<style scoped>\n",
       "    .dataframe tbody tr th:only-of-type {\n",
       "        vertical-align: middle;\n",
       "    }\n",
       "\n",
       "    .dataframe tbody tr th {\n",
       "        vertical-align: top;\n",
       "    }\n",
       "\n",
       "    .dataframe thead th {\n",
       "        text-align: right;\n",
       "    }\n",
       "</style>\n",
       "<table border=\"1\" class=\"dataframe\">\n",
       "  <thead>\n",
       "    <tr style=\"text-align: right;\">\n",
       "      <th></th>\n",
       "      <th>Z1</th>\n",
       "      <th>Z2</th>\n",
       "      <th>Z3</th>\n",
       "      <th>Z4</th>\n",
       "      <th>A</th>\n",
       "    </tr>\n",
       "  </thead>\n",
       "  <tbody>\n",
       "    <tr>\n",
       "      <th>165</th>\n",
       "      <td>-11.767308</td>\n",
       "      <td>0</td>\n",
       "      <td>0</td>\n",
       "      <td>1</td>\n",
       "      <td>-1</td>\n",
       "    </tr>\n",
       "    <tr>\n",
       "      <th>134</th>\n",
       "      <td>-5.767308</td>\n",
       "      <td>0</td>\n",
       "      <td>1</td>\n",
       "      <td>0</td>\n",
       "      <td>1</td>\n",
       "    </tr>\n",
       "    <tr>\n",
       "      <th>30</th>\n",
       "      <td>5.232692</td>\n",
       "      <td>1</td>\n",
       "      <td>1</td>\n",
       "      <td>0</td>\n",
       "      <td>-1</td>\n",
       "    </tr>\n",
       "    <tr>\n",
       "      <th>204</th>\n",
       "      <td>6.232692</td>\n",
       "      <td>0</td>\n",
       "      <td>1</td>\n",
       "      <td>0</td>\n",
       "      <td>-1</td>\n",
       "    </tr>\n",
       "    <tr>\n",
       "      <th>10</th>\n",
       "      <td>13.232692</td>\n",
       "      <td>0</td>\n",
       "      <td>1</td>\n",
       "      <td>0</td>\n",
       "      <td>-1</td>\n",
       "    </tr>\n",
       "    <tr>\n",
       "      <th>...</th>\n",
       "      <td>...</td>\n",
       "      <td>...</td>\n",
       "      <td>...</td>\n",
       "      <td>...</td>\n",
       "      <td>...</td>\n",
       "    </tr>\n",
       "    <tr>\n",
       "      <th>75</th>\n",
       "      <td>1.232692</td>\n",
       "      <td>1</td>\n",
       "      <td>1</td>\n",
       "      <td>0</td>\n",
       "      <td>-1</td>\n",
       "    </tr>\n",
       "    <tr>\n",
       "      <th>466</th>\n",
       "      <td>-5.767308</td>\n",
       "      <td>1</td>\n",
       "      <td>1</td>\n",
       "      <td>0</td>\n",
       "      <td>-1</td>\n",
       "    </tr>\n",
       "    <tr>\n",
       "      <th>299</th>\n",
       "      <td>-3.767308</td>\n",
       "      <td>1</td>\n",
       "      <td>0</td>\n",
       "      <td>0</td>\n",
       "      <td>-1</td>\n",
       "    </tr>\n",
       "    <tr>\n",
       "      <th>493</th>\n",
       "      <td>-5.767308</td>\n",
       "      <td>1</td>\n",
       "      <td>0</td>\n",
       "      <td>0</td>\n",
       "      <td>1</td>\n",
       "    </tr>\n",
       "    <tr>\n",
       "      <th>168</th>\n",
       "      <td>-3.767308</td>\n",
       "      <td>0</td>\n",
       "      <td>1</td>\n",
       "      <td>0</td>\n",
       "      <td>-1</td>\n",
       "    </tr>\n",
       "  </tbody>\n",
       "</table>\n",
       "<p>364 rows × 5 columns</p>\n",
       "</div>"
      ],
      "text/plain": [
       "            Z1  Z2  Z3  Z4  A\n",
       "165 -11.767308   0   0   1 -1\n",
       "134  -5.767308   0   1   0  1\n",
       "30    5.232692   1   1   0 -1\n",
       "204   6.232692   0   1   0 -1\n",
       "10   13.232692   0   1   0 -1\n",
       "..         ...  ..  ..  .. ..\n",
       "75    1.232692   1   1   0 -1\n",
       "466  -5.767308   1   1   0 -1\n",
       "299  -3.767308   1   0   0 -1\n",
       "493  -5.767308   1   0   0  1\n",
       "168  -3.767308   0   1   0 -1\n",
       "\n",
       "[364 rows x 5 columns]"
      ]
     },
     "execution_count": 15,
     "metadata": {},
     "output_type": "execute_result"
    }
   ],
   "source": [
    "train_df.drop([\"time\",\"event\",\"W\", \"id\"], axis = 1)  #X_train"
   ]
  },
  {
   "cell_type": "markdown",
   "metadata": {
    "id": "uiMykQR_NxY1"
   },
   "source": [
    "## Run CausalDeepCENT wrapped tutorial model"
   ]
  },
  {
   "cell_type": "code",
   "execution_count": 141,
   "metadata": {
    "id": "iteVhbFxM4qB"
   },
   "outputs": [],
   "source": [
    "### Define hyperparameters\n",
    "EPOCHS = 1000\n",
    "BATCH_SIZE = 256\n",
    "LEARNING_RATE = 1e-2\n",
    "NODE = 128\n",
    "NUM_LAYER = 1\n",
    "LAMBDA1 = 0.01\n",
    "DROPOUT = 0.2"
   ]
  },
  {
   "cell_type": "code",
   "execution_count": 142,
   "metadata": {
    "id": "WP4kCcxdNAQN"
   },
   "outputs": [],
   "source": [
    "y_test_pred, y_test_pred_upper, y_test_pred_lower = cdc.Causal_DeepCENT(\n",
    "    train_dataset, \n",
    "    test_dataset, \n",
    "    NUM_FEATURES, \n",
    "    NUM_LAYER, \n",
    "    NODE, \n",
    "    DROPOUT, \n",
    "    LEARNING_RATE, \n",
    "    LAMBDA1, \n",
    "    EPOCHS, \n",
    "    BATCH_SIZE\n",
    ")"
   ]
  },
  {
   "cell_type": "code",
   "execution_count": 161,
   "metadata": {
    "id": "7sTrjk2dFI6x"
   },
   "outputs": [],
   "source": [
    "# Output the prediction on test set\n",
    "out_test = pd.DataFrame(\n",
    "    list(\n",
    "        zip(\n",
    "            test_df[\"time\"],\n",
    "            np.exp(y_test_pred), \n",
    "            np.exp(y_test_pred_lower), \n",
    "            np.exp(y_test_pred_upper)\n",
    "        )\n",
    "    ),\n",
    "    columns = ['time','pred_time','pred_time_lower','pred_time_upper']\n",
    ")\n",
    "\n",
    "# you can then save the dataframe out_test into your Google drive"
   ]
  },
  {
   "cell_type": "code",
   "execution_count": null,
   "metadata": {},
   "outputs": [],
   "source": []
  },
  {
   "cell_type": "code",
   "execution_count": null,
   "metadata": {},
   "outputs": [],
   "source": []
  },
  {
   "cell_type": "code",
   "execution_count": 25,
   "metadata": {},
   "outputs": [],
   "source": [
    "out_test\n",
    "\n",
    "out_test['pct_error'] = abs(out_test['time'] - out_test['pred_time'])/out_test['time']"
   ]
  },
  {
   "cell_type": "code",
   "execution_count": 26,
   "metadata": {},
   "outputs": [
    {
     "data": {
      "text/html": [
       "<div>\n",
       "<style scoped>\n",
       "    .dataframe tbody tr th:only-of-type {\n",
       "        vertical-align: middle;\n",
       "    }\n",
       "\n",
       "    .dataframe tbody tr th {\n",
       "        vertical-align: top;\n",
       "    }\n",
       "\n",
       "    .dataframe thead th {\n",
       "        text-align: right;\n",
       "    }\n",
       "</style>\n",
       "<table border=\"1\" class=\"dataframe\">\n",
       "  <thead>\n",
       "    <tr style=\"text-align: right;\">\n",
       "      <th></th>\n",
       "      <th>time</th>\n",
       "      <th>pred_time</th>\n",
       "      <th>pred_time_lower</th>\n",
       "      <th>pred_time_upper</th>\n",
       "      <th>pct_error</th>\n",
       "    </tr>\n",
       "  </thead>\n",
       "  <tbody>\n",
       "    <tr>\n",
       "      <th>0</th>\n",
       "      <td>71</td>\n",
       "      <td>103.330776</td>\n",
       "      <td>62.352130</td>\n",
       "      <td>171.241129</td>\n",
       "      <td>0.455363</td>\n",
       "    </tr>\n",
       "    <tr>\n",
       "      <th>1</th>\n",
       "      <td>54</td>\n",
       "      <td>173.129481</td>\n",
       "      <td>104.578207</td>\n",
       "      <td>286.616286</td>\n",
       "      <td>2.206101</td>\n",
       "    </tr>\n",
       "    <tr>\n",
       "      <th>2</th>\n",
       "      <td>1197</td>\n",
       "      <td>101.621879</td>\n",
       "      <td>59.441298</td>\n",
       "      <td>173.734535</td>\n",
       "      <td>0.915103</td>\n",
       "    </tr>\n",
       "    <tr>\n",
       "      <th>3</th>\n",
       "      <td>20</td>\n",
       "      <td>115.536764</td>\n",
       "      <td>69.985956</td>\n",
       "      <td>190.734608</td>\n",
       "      <td>4.776838</td>\n",
       "    </tr>\n",
       "    <tr>\n",
       "      <th>4</th>\n",
       "      <td>209</td>\n",
       "      <td>129.372877</td>\n",
       "      <td>70.213886</td>\n",
       "      <td>238.376509</td>\n",
       "      <td>0.380991</td>\n",
       "    </tr>\n",
       "    <tr>\n",
       "      <th>...</th>\n",
       "      <td>...</td>\n",
       "      <td>...</td>\n",
       "      <td>...</td>\n",
       "      <td>...</td>\n",
       "      <td>...</td>\n",
       "    </tr>\n",
       "    <tr>\n",
       "      <th>151</th>\n",
       "      <td>14</td>\n",
       "      <td>170.550213</td>\n",
       "      <td>98.147891</td>\n",
       "      <td>296.362714</td>\n",
       "      <td>11.182158</td>\n",
       "    </tr>\n",
       "    <tr>\n",
       "      <th>152</th>\n",
       "      <td>77</td>\n",
       "      <td>251.138818</td>\n",
       "      <td>140.378672</td>\n",
       "      <td>449.289802</td>\n",
       "      <td>2.261543</td>\n",
       "    </tr>\n",
       "    <tr>\n",
       "      <th>153</th>\n",
       "      <td>179</td>\n",
       "      <td>162.739839</td>\n",
       "      <td>93.011713</td>\n",
       "      <td>284.741075</td>\n",
       "      <td>0.090839</td>\n",
       "    </tr>\n",
       "    <tr>\n",
       "      <th>154</th>\n",
       "      <td>309</td>\n",
       "      <td>141.353103</td>\n",
       "      <td>82.491356</td>\n",
       "      <td>242.215679</td>\n",
       "      <td>0.542547</td>\n",
       "    </tr>\n",
       "    <tr>\n",
       "      <th>155</th>\n",
       "      <td>123</td>\n",
       "      <td>376.572852</td>\n",
       "      <td>207.116851</td>\n",
       "      <td>684.672019</td>\n",
       "      <td>2.061568</td>\n",
       "    </tr>\n",
       "  </tbody>\n",
       "</table>\n",
       "<p>156 rows × 5 columns</p>\n",
       "</div>"
      ],
      "text/plain": [
       "     time   pred_time  pred_time_lower  pred_time_upper  pct_error\n",
       "0      71  103.330776        62.352130       171.241129   0.455363\n",
       "1      54  173.129481       104.578207       286.616286   2.206101\n",
       "2    1197  101.621879        59.441298       173.734535   0.915103\n",
       "3      20  115.536764        69.985956       190.734608   4.776838\n",
       "4     209  129.372877        70.213886       238.376509   0.380991\n",
       "..    ...         ...              ...              ...        ...\n",
       "151    14  170.550213        98.147891       296.362714  11.182158\n",
       "152    77  251.138818       140.378672       449.289802   2.261543\n",
       "153   179  162.739839        93.011713       284.741075   0.090839\n",
       "154   309  141.353103        82.491356       242.215679   0.542547\n",
       "155   123  376.572852       207.116851       684.672019   2.061568\n",
       "\n",
       "[156 rows x 5 columns]"
      ]
     },
     "execution_count": 26,
     "metadata": {},
     "output_type": "execute_result"
    }
   ],
   "source": [
    "out_test"
   ]
  },
  {
   "cell_type": "code",
   "execution_count": 140,
   "metadata": {
    "scrolled": false
   },
   "outputs": [
    {
     "name": "stdout",
     "output_type": "stream",
     "text": [
      "[0, 1554]\n",
      "[0, 386.8795533204593]\n"
     ]
    },
    {
     "data": {
      "text/plain": [
       "<Axes: xlabel='time', ylabel='pred_time'>"
      ]
     },
     "execution_count": 140,
     "metadata": {},
     "output_type": "execute_result"
    },
    {
     "data": {
      "image/png": "[encoded data removed]",
      "text/plain": [
       "<Figure size 1500x500 with 1 Axes>"
      ]
     },
     "metadata": {},
     "output_type": "display_data"
    }
   ],
   "source": [
    "out_test['event'] = E_test\n",
    "data = out_test\n",
    "\n",
    "# initialize figure \n",
    "fig, ax = plt.subplots(figsize=(15, 5))\n",
    "\n",
    "# Predicted vs Actual (color by Censored status)\n",
    "sns.scatterplot(\n",
    "    data, \n",
    "    x=\"time\", \n",
    "    y=\"pred_time\", \n",
    "    hue='event',\n",
    "    ax = ax\n",
    ")\n",
    "\n",
    "\n",
    "diag_x = [0, max(data['time'].max(),data['time'].max())]\n",
    "diag_y = [0, max(data['pred_time'].max(),data['pred_time'].max())]\n",
    "\n",
    "print(diag_x)\n",
    "print(diag_y)\n",
    "sns.lineplot(x=diag_x,y=diag_y, ax=ax )\n",
    "# \n",
    "\n",
    "\n",
    "# plot mean and uncertainty\n",
    "plt.plot(data$time, data$pred_time, 'or')\n",
    "plt.plot(x_test, m, 'gray')\n",
    "plt.fill_between(x_test, y_test_pred_upper, y_test,\n",
    "                 color='lightblue', alpha=0.5) # plot two std (95% confidence)\n",
    "\n",
    "\n",
    "# How to One-Hot Encode The Patient Covariates ? "
   ]
  },
  {
   "cell_type": "markdown",
   "metadata": {
    "id": "Nx0YJ2GuF4Ap"
   },
   "source": [
    "## Get prediction on a new patient"
   ]
  },
  {
   "cell_type": "code",
   "execution_count": null,
   "metadata": {
    "id": "0FSYaGwGF1LZ"
   },
   "outputs": [],
   "source": [
    "# ## If you have several new patients, please organize them into a dataframe that has the exact same column names as the trainig set in this tutorial,\n",
    "# ## and replace the \"test_df\"\n",
    "\n",
    "# ## If you only have one or two new entries, then input the covariates values below\n",
    "# ## Here are two individuals with the same covariates value but one without and the other with chemotherapy\n",
    "# Cov = {\n",
    "#  \"ER.Status\": [0,0],\n",
    "#  \"HER2.Status\": [0,0],\n",
    "#  \"PR.Status\": [0,0],\n",
    "#  \"Tumor.Size\": [25,25],\n",
    "#  \"Age.at.Diagnosis.x\": [46,46],\n",
    "#  \"Lymph.nodes.examined.positive\": [8,8],\n",
    "#  \"Nottingham.prognostic.index\":[6,6],\n",
    "#  \"Chemotherapy\": [0,1],\n",
    "#  \"Hormone.Therapy\": [0,0],\n",
    "#  \"Inferred.Menopausal.State\": [0,0],\n",
    "#  \"Radio.Therapy\": [1,1],\n",
    "#  \"MKI67\": [5.96, 5.96],\n",
    "#  \"EGFR\": [6.19, 6.19],\n",
    "#  \"PGR\": [11.92, 11.92],\n",
    "#  \"ERBB2\": [5.27, 5.27]\n",
    "# }"
   ]
  },
  {
   "cell_type": "code",
   "execution_count": null,
   "metadata": {
    "id": "0R4HZjbjK1_L"
   },
   "outputs": [],
   "source": [
    "# # using the whole dataset as training set\n",
    "# X_train = df.drop([\"time\",\"event\",\"W\"], axis = 1)\n",
    "# NUM_FEATURES = X_train.shape[1]\n",
    "# y_train = np.log(df[\"time\"])\n",
    "# E_train = df[\"event\"]\n",
    "# W_train = df[\"W\"]\n",
    "\n",
    "# # new entires as test set\n",
    "# X_test_new = pd.DataFrame(Cov)\n",
    "\n",
    "\n",
    "# scaler = MinMaxScaler()\n",
    "# X_train = scaler.fit_transform(X_train)\n",
    "# X_test_new = scaler.transform(X_test_new)\n",
    "# X_train, y_train, E_train, W_train = np.array(X_train), np.array(y_train), np.array(E_train), np.array(W_train)\n",
    "# train_dataset = TensorDataset(torch.from_numpy(X_train).float().to(device), torch.from_numpy(y_train).float().to(device), torch.from_numpy(E_train).float().to(device), torch.from_numpy(W_train).float().to(device))\n",
    "# test_dataset_new = TensorDataset(torch.from_numpy(np.array(X_test_new)).float().to(device), torch.empty(X_test_new.shape[0]), torch.empty(X_test_new.shape[0]))"
   ]
  },
  {
   "cell_type": "code",
   "execution_count": null,
   "metadata": {
    "id": "qceTVSqfMzcY"
   },
   "outputs": [],
   "source": [
    "# y_test_pred, y_test_pred_upper, y_test_pred_lower = cdc.Causal_DeepCENT(train_dataset, test_dataset_new, NUM_FEATURES, NUM_LAYER, NODE, DROPOUT, LEARNING_RATE, LAMBDA1, EPOCHS, BATCH_SIZE)"
   ]
  },
  {
   "cell_type": "code",
   "execution_count": null,
   "metadata": {
    "id": "J90Tex29QaSP"
   },
   "outputs": [],
   "source": [
    "# # Output the prediction on test set\n",
    "# out_test = pd.DataFrame(list(zip(np.exp(y_test_pred), np.exp(y_test_pred_lower), np.exp(y_test_pred_upper))),columns=['pred_time','pred_time_lower','pred_time_upper'])"
   ]
  },
  {
   "cell_type": "markdown",
   "metadata": {},
   "source": [
    "# Tuning Model "
   ]
  },
  {
   "cell_type": "code",
   "execution_count": 152,
   "metadata": {
    "id": "iteVhbFxM4qB"
   },
   "outputs": [],
   "source": [
    "### Define hyperparameters\n",
    "\n",
    "\n",
    "# Choosing epochs ... \n",
    "#  Early stopping vs Double Descent ?? \n",
    "\n",
    "EPOCHS = 10\n",
    "BATCH_SIZE = 64\n",
    "# Power of 2. As large as operates on cpu, but (i think) smaller than sample size.\n",
    "# Do we care about CPU FOR \n",
    "# BATCH_NORMALISATION \n",
    "LEARNING_RATE = 1e-2\n",
    "NODE = 128 \n",
    "NUM_LAYER = 1\n",
    "LAMBDA1 = 0.01\n",
    "DROPOUT = 0.2\n",
    "\n",
    "\n",
    "# def Causal_DeepCENT(\n",
    "#     train_dataset, \n",
    "#     test_dataset, \n",
    "#     num_feature, \n",
    "#     num_layers, \n",
    "#     node, \n",
    "#     dropout, \n",
    "#     lr, \n",
    "#     lambda1, \n",
    "#     num_epoch, \n",
    "#     batch_size, \n",
    "#     seed=123, \n",
    "#     T=100\n",
    "# ):\n",
    "\n",
    "seed = 123\n",
    "T=100\n",
    "num_feature = NUM_FEATURES\n",
    "num_layers = NUM_LAYER\n",
    "node = NODE \n",
    "dropout = DROPOUT\n",
    "lr = LEARNING_RATE\n",
    "batch_size = BATCH_SIZE\n",
    "num_epoch = EPOCHS\n",
    "lambda1 = LAMBDA1\n",
    "\n",
    "\n",
    "# to save to file \n",
    "hyperparameters = {\n",
    "    \"seed \": 123,\n",
    "    \"T\":100,\n",
    "    \"num_feature \": NUM_FEATURES,\n",
    "    \"num_layers \": NUM_LAYER,\n",
    "    \"node \": NODE ,\n",
    "    \"dropout \": DROPOUT,\n",
    "    \"lr \": LEARNING_RATE,\n",
    "    \"batch_size \": BATCH_SIZE,\n",
    "    \"num_epoch \": EPOCHS,\n",
    "    \"lambda1 \": LAMBDA1\n",
    "}\n",
    "\n",
    "\n",
    "experiment_name = \"spectrum_tuning_01\"\n",
    "with open(\".json\", \"w\") as out_file:\n",
    "    json.dump(hyperparameters, out_file, indent=4)\n",
    "    "
   ]
  },
  {
   "cell_type": "code",
   "execution_count": 153,
   "metadata": {},
   "outputs": [
    {
     "data": {
      "text/plain": [
       "Text(0, 0.5, 'MSE-Loss')"
      ]
     },
     "execution_count": 153,
     "metadata": {},
     "output_type": "execute_result"
    },
    {
     "data": {
      "image/png": "[encoded data removed]",
      "text/plain": [
       "<Figure size 640x480 with 1 Axes>"
      ]
     },
     "metadata": {},
     "output_type": "display_data"
    }
   ],
   "source": [
    "# TRAINING \n",
    "\n",
    "# initialize model \n",
    "torch.manual_seed(seed)\n",
    "\n",
    "model = Net(\n",
    "    n_feature=num_feature, \n",
    "    num_layers = num_layers, \n",
    "    node=node, \n",
    "    dropout=dropout\n",
    ")\n",
    "\n",
    "model.to(device)\n",
    "\n",
    "\n",
    "# choose optimizer \n",
    "optimizer = optim.Adam(model.parameters(), lr=lr,weight_decay=1e-8)\n",
    "\n",
    "# Trianing\n",
    "train_loader = DataLoader(\n",
    "    dataset=train_dataset, \n",
    "    batch_size=batch_size, \n",
    "    shuffle=True, \n",
    "    drop_last=True\n",
    ")\n",
    "\n",
    "\n",
    "# \n",
    "epoch_loss_train = []\n",
    "\n",
    "for e in range(1, num_epoch+1):\n",
    "    epoch_loss = 0\n",
    "\n",
    "    model.train()\n",
    "    for X_train_batch, y_train_batch, E_train_batch, W_train_batch in train_loader:\n",
    "        optimizer.zero_grad()\n",
    "\n",
    "        y_train_pred = model(X_train_batch)\n",
    "        mseloss = weighted_mse_loss(\n",
    "            y_train_pred, \n",
    "            y_train_batch.unsqueeze(1), \n",
    "            E_train_batch.unsqueeze(1), \n",
    "            W_train_batch.unsqueeze(1),\n",
    "            lambda1\n",
    "        )\n",
    "        \n",
    "        # print(mseloss.detach().numpy())\n",
    "        epoch_loss_train += [mseloss.detach().numpy()]\n",
    "        \n",
    "        train_loss = mseloss \n",
    "        train_loss.backward()\n",
    "        optimizer.step()\n",
    "        \n",
    "        \n",
    "#         if t % 5 == 0:\n",
    "#             # plot and show learning process\n",
    "#             plt.cla()\n",
    "#             plt.scatter(x.data.numpy(), y.data.numpy())\n",
    "#             plt.plot(x.data.numpy(), prediction.data.numpy(), 'r-', lw=5)\n",
    "#             plt.text(0.5, 0, 'Loss=%.4f' % loss.data.numpy(), fontdict={'size': 20, 'color':  'red'})\n",
    "#             plt.pause(0.1)\n",
    "\n",
    "\n",
    "\n",
    "# print(epoch_loss_train)\n",
    "plt.plot(epoch_loss_train)\n",
    "plt.xlabel(\"Epoch Batch\")\n",
    "plt.ylabel(\"MSE-Loss\")\n"
   ]
  },
  {
   "cell_type": "code",
   "execution_count": 154,
   "metadata": {},
   "outputs": [],
   "source": [
    "# Testing \n",
    "\n",
    "test_loader = DataLoader(\n",
    "    dataset=test_dataset, \n",
    "    batch_size=len(test_dataset)\n",
    ")\n",
    "\n",
    "# What is happening here ? \n",
    "with torch.no_grad():\n",
    "    \n",
    "    #model.train()\n",
    "    model.eval()\n",
    "    \n",
    "    enable_dropout(model)\n",
    "    \n",
    "    result = []\n",
    "    for _ in range(T): \n",
    "        y_pred_list = [] \n",
    "        for X_batch, _, _ in test_loader:\n",
    "            y_test_pred = model(X_batch)\n",
    "            y_pred_list.append(y_test_pred.cpu().numpy())\n",
    "            y_pred_list = [a.squeeze().tolist() for a in y_pred_list]\n",
    "            if len(y_pred_list)>1: y_pred_list = sum(y_pred_list, [])\n",
    "        result.append(y_pred_list)\n",
    "\n",
    "    result = np.array(result)\n",
    "    \n",
    "    # mean, sd per datum ?? \n",
    "    y_test_pred_mean = result.mean(axis=0).reshape(-1,)\n",
    "    y_test_pred_sd = result.std(axis=0).reshape(-1,)\n",
    "    \n",
    "    ## Question: Is the Normal Distribution appropriate ? \n",
    "    y_pred_list_upper = y_test_pred_mean + 1.96*y_test_pred_sd\n",
    "    y_pred_list_lower = y_test_pred_mean - 1.96*y_test_pred_sd\n",
    "\n",
    "\n",
    "# return y_test_pred_mean,y_pred_list_upper, y_pred_list_lower\n"
   ]
  },
  {
   "cell_type": "code",
   "execution_count": 155,
   "metadata": {
    "id": "7sTrjk2dFI6x"
   },
   "outputs": [],
   "source": [
    "# Output the prediction on test set\n",
    "out_test = pd.DataFrame(\n",
    "    list(\n",
    "        zip(\n",
    "            test_df[\"time\"],\n",
    "            np.exp(y_test_pred_mean), \n",
    "            np.exp(y_test_pred_lower), \n",
    "            np.exp(y_test_pred_upper))\n",
    "    ),\n",
    "    columns=['time','pred_time','pred_time_lower','pred_time_upper']\n",
    ")\n",
    "\n",
    "# you can then save the dataframe out_test into your Google drive\n",
    "\n",
    "out_test['pct_error'] = abs(out_test['time'] - out_test['pred_time'])/out_test['time']\n",
    "out_test['event'] = E_test # censor status \n",
    "data = out_test\n"
   ]
  },
  {
   "cell_type": "code",
   "execution_count": 158,
   "metadata": {},
   "outputs": [
    {
     "name": "stdout",
     "output_type": "stream",
     "text": [
      "test_mse\n",
      "160.73554574446527\n"
     ]
    }
   ],
   "source": [
    "# MSE \n",
    "test_mse = np.mean(np.absolute(out_test['time'] - out_test['pred_time']))\n",
    "print(\"test_mse\")\n",
    "print(test_mse)"
   ]
  },
  {
   "cell_type": "code",
   "execution_count": 159,
   "metadata": {},
   "outputs": [
    {
     "name": "stdout",
     "output_type": "stream",
     "text": [
      "[0, 1554]\n",
      "[0, 308.3346642330207]\n"
     ]
    },
    {
     "data": {
      "text/plain": [
       "<Axes: xlabel='time', ylabel='pred_time'>"
      ]
     },
     "execution_count": 159,
     "metadata": {},
     "output_type": "execute_result"
    },
    {
     "data": {
      "image/png": "[encoded data removed]",
      "text/plain": [
       "<Figure size 1500x500 with 1 Axes>"
      ]
     },
     "metadata": {},
     "output_type": "display_data"
    }
   ],
   "source": [
    "# initialize figure \n",
    "fig, ax = plt.subplots(figsize=(15, 5))\n",
    "\n",
    "# Predicted vs Actual (color by Censored status)\n",
    "sns.scatterplot(\n",
    "    data, \n",
    "    x=\"time\", \n",
    "    y=\"pred_time\", \n",
    "    hue='event',\n",
    "    ax = ax\n",
    ")\n",
    "\n",
    "diag_x = [0, max(data['time'].max(),data['time'].max())]\n",
    "diag_y = [0, max(data['pred_time'].max(),data['pred_time'].max())]\n",
    "\n",
    "print(diag_x)\n",
    "print(diag_y)\n",
    "sns.lineplot(x=diag_x,y=diag_y, ax=ax )\n",
    "\n",
    "\n",
    "\n",
    "\n"
   ]
  }
 ],
 "metadata": {
  "colab": {
   "provenance": []
  },
  "kernelspec": {
   "display_name": "venv_deepcent",
   "language": "python",
   "name": "venv_deepcent"
  },
  "language_info": {
   "codemirror_mode": {
    "name": "ipython",
    "version": 3
   },
   "file_extension": ".py",
   "mimetype": "text/x-python",
   "name": "python",
   "nbconvert_exporter": "python",
   "pygments_lexer": "ipython3",
   "version": "3.11.6"
  }
 },
 "nbformat": 4,
 "nbformat_minor": 4
}
